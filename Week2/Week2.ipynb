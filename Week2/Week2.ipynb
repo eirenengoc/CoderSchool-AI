{
 "cells": [
  {
   "cell_type": "markdown",
   "id": "57dd8d9e",
   "metadata": {},
   "source": [
    "# Exercise 1"
   ]
  },
  {
   "cell_type": "code",
   "execution_count": null,
   "id": "7b3bc33d",
   "metadata": {},
   "outputs": [
    {
     "data": {
      "text/plain": [
       "array([37, 36, 35, 34, 33, 32, 31, 30, 29, 28, 27, 26, 25, 24, 23, 22, 21,\n",
       "       20, 19, 18, 17, 16, 15, 14, 13, 12])"
      ]
     },
     "execution_count": 5,
     "metadata": {},
     "output_type": "execute_result"
    }
   ],
   "source": [
    "# Ex1: Write a NumPy program to reverse an array (first element becomes last).\n",
    "# Input: [12 13 14 15 16 17 18 19 20 21 22 23 24 25 26 27 28 29 30 31 32 33 34 35 36 37]\n",
    "import numpy as np\n",
    "\n",
    "#Create an array ranging from 12 to 37:\n",
    "num = list(range(12, 38))\n",
    "arr = np.array(num)\n",
    "\n",
    "#Reverse the array:\n",
    "arr = arr[::-1]\n",
    "\n",
    "arr"
   ]
  },
  {
   "cell_type": "markdown",
   "id": "81480123",
   "metadata": {},
   "source": [
    "# Exercise 2 "
   ]
  },
  {
   "cell_type": "code",
   "execution_count": 6,
   "id": "539714a5",
   "metadata": {},
   "outputs": [
    {
     "name": "stdout",
     "output_type": "stream",
     "text": [
      "[False  True False  True False]\n"
     ]
    }
   ],
   "source": [
    "# Ex2: Write a NumPy program to test whether each element of a 1-D array is also present in a second array\n",
    "# Input Array1: [ 0 10 20 40 60]\n",
    "#       Array2: [10, 30, 40]\n",
    "\n",
    "import numpy as np\n",
    "#Create 2 arrays:\n",
    "arr1 = np.array([ 0, 10, 20, 40, 60])\n",
    "arr2 = np.array([10, 30, 40])\n",
    "\n",
    "#Check if array 1 is in array 2:\n",
    "result = np.isin(arr1, arr2)\n",
    "\n",
    "print(result)"
   ]
  },
  {
   "cell_type": "markdown",
   "id": "0376138e",
   "metadata": {},
   "source": [
    "# Exercise 3"
   ]
  },
  {
   "cell_type": "code",
   "execution_count": 5,
   "id": "2080da3c",
   "metadata": {},
   "outputs": [
    {
     "name": "stdout",
     "output_type": "stream",
     "text": [
      "Index of max number :7\n",
      "Index of min number: 5\n"
     ]
    }
   ],
   "source": [
    "# Ex3: Write a NumPy program to find the indices of the maximum and minimum values along the given axis of an array\n",
    "# Input Array [1,6,4,8,9,-4,-2,11]\n",
    "\n",
    "import numpy as np\n",
    "\n",
    "#Create a sorted array:\n",
    "arr = np.array([1,6,4,8,9,-4,-2,11])\n",
    "#Use numpy function to find the indices of the max and min values:\n",
    "max = np.argmax(arr)\n",
    "min = np.argmin(arr)\n",
    "\n",
    "print(f\"Index of max number :{max}\")\n",
    "print(f\"Index of min number: {min}\")"
   ]
  },
  {
   "cell_type": "markdown",
   "id": "b7b28d2b",
   "metadata": {},
   "source": [
    "# Exercise 4 "
   ]
  },
  {
   "cell_type": "code",
   "execution_count": null,
   "id": "edc8dca6",
   "metadata": {},
   "outputs": [
    {
     "data": {
      "text/plain": [
       "[('the', 1672),\n",
       " ('and', 873),\n",
       " ('to', 734),\n",
       " ('a', 649),\n",
       " ('it', 605),\n",
       " ('she', 553),\n",
       " ('i', 538),\n",
       " ('of', 519),\n",
       " ('said', 467),\n",
       " ('you', 411),\n",
       " ('alice', 408),\n",
       " ('in', 382),\n",
       " ('was', 359),\n",
       " ('that', 320),\n",
       " ('as', 261),\n",
       " ('her', 253),\n",
       " ('t', 218),\n",
       " ('s', 212),\n",
       " ('at', 211),\n",
       " ('with', 198),\n",
       " ('on', 192),\n",
       " ('all', 183),\n",
       " ('had', 179),\n",
       " ('but', 169),\n",
       " ('so', 154),\n",
       " ('be', 152),\n",
       " ('for', 152),\n",
       " ('they', 152),\n",
       " ('what', 147),\n",
       " ('not', 146),\n",
       " ('very', 146),\n",
       " ('this', 142),\n",
       " ('little', 133),\n",
       " ('he', 122),\n",
       " ('out', 115),\n",
       " ('is', 110),\n",
       " ('one', 107),\n",
       " ('down', 106),\n",
       " ('up', 101),\n",
       " ('there', 101),\n",
       " ('his', 98),\n",
       " ('about', 94),\n",
       " ('if', 94),\n",
       " ('then', 92),\n",
       " ('no', 89),\n",
       " ('them', 87),\n",
       " ('like', 87),\n",
       " ('know', 85),\n",
       " ('would', 85),\n",
       " ('again', 85),\n",
       " ('were', 85),\n",
       " ('herself', 83),\n",
       " ('or', 83),\n",
       " ('off', 82),\n",
       " ('queen', 81),\n",
       " ('went', 81),\n",
       " ('do', 80),\n",
       " ('have', 79),\n",
       " ('when', 79),\n",
       " ('could', 78),\n",
       " ('thought', 73),\n",
       " ('into', 72),\n",
       " ('time', 70),\n",
       " ('by', 68),\n",
       " ('me', 68),\n",
       " ('who', 67),\n",
       " ('see', 66),\n",
       " ('m', 64),\n",
       " ('how', 64),\n",
       " ('king', 63),\n",
       " ('your', 63),\n",
       " ('did', 62),\n",
       " ('turtle', 61),\n",
       " ('well', 60),\n",
       " ('its', 60),\n",
       " ('an', 60),\n",
       " ('can', 60),\n",
       " ('don', 60),\n",
       " ('now', 60),\n",
       " ('mock', 59),\n",
       " ('are', 58),\n",
       " ('my', 58),\n",
       " ('began', 58),\n",
       " ('hatter', 56),\n",
       " ('quite', 55),\n",
       " ('ll', 55),\n",
       " ('gryphon', 55),\n",
       " ('some', 54),\n",
       " ('way', 53),\n",
       " ('head', 53),\n",
       " ('here', 52),\n",
       " ('think', 52),\n",
       " ('their', 52),\n",
       " ('go', 51),\n",
       " ('just', 51),\n",
       " ('much', 51),\n",
       " ('which', 50),\n",
       " ('thing', 50),\n",
       " ('first', 49),\n",
       " ('only', 49)]"
      ]
     },
     "execution_count": 51,
     "metadata": {},
     "output_type": "execute_result"
    }
   ],
   "source": [
    "# Ex4: Read the entire file story.txt and write a program to print out top 100 words occur most\n",
    "# frequently and their corresponding appearance. You could ignore all\n",
    "# punction characters such as comma, dot, semicolon, ...\n",
    "# Sample output:\n",
    "# house: 453\n",
    "# dog: 440\n",
    "# people: 312\n",
    "# ...\n",
    "\n",
    "#Import the file:\n",
    "with open(\"story.txt\", \"r\") as file:\n",
    "  doc = file.readlines()\n",
    "  \n",
    "#Combine into 1 line & change to lowercase:\n",
    "cleaned_doc = \" \".join(doc).lower()\n",
    "\n",
    "#Preprocessing the data:\n",
    "import string\n",
    "\n",
    "for punc in string.punctuation:\n",
    "  #Replace all punctuation:\n",
    "  cleaned_doc = cleaned_doc.replace(punc, \" \")\n",
    "  #Remove line breaks & double spaces:\n",
    "  cleaned_doc = \" \".join(cleaned_doc.split())\n",
    "  #Break words into list:\n",
    "  word_list = cleaned_doc.split()\n",
    "\n",
    "#Get unique words in the word list:\n",
    "unique_words = set(word_list)\n",
    "# Create the dictionary of word and word count:\n",
    "result = {word : word_list.count(word) for word in unique_words}\n",
    "\n",
    "#Sort the result and get the top 100:\n",
    "sorted_result = sorted(result.items(), key = lambda x : x[1], reverse = True)[:100]\n",
    "\n",
    "sorted_result"
   ]
  }
 ],
 "metadata": {
  "kernelspec": {
   "display_name": "Python 3",
   "language": "python",
   "name": "python3"
  },
  "language_info": {
   "codemirror_mode": {
    "name": "ipython",
    "version": 3
   },
   "file_extension": ".py",
   "mimetype": "text/x-python",
   "name": "python",
   "nbconvert_exporter": "python",
   "pygments_lexer": "ipython3",
   "version": "3.13.2"
  }
 },
 "nbformat": 4,
 "nbformat_minor": 5
}
